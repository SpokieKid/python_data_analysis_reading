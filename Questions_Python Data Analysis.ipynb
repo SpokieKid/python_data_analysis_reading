{
 "cells": [
  {
   "cell_type": "markdown",
   "metadata": {},
   "source": [
    "Simulation of multiple random walks"
   ]
  },
  {
   "cell_type": "markdown",
   "metadata": {},
   "source": [
    "# Why don't just use randint(-1,1)?\n",
    "Because that will involve number 0"
   ]
  },
  {
   "cell_type": "code",
   "execution_count": 2,
   "metadata": {},
   "outputs": [],
   "source": [
    "import numpy as np"
   ]
  },
  {
   "cell_type": "code",
   "execution_count": 3,
   "metadata": {},
   "outputs": [
    {
     "data": {
      "text/plain": [
       "array([[  1,   0,  -1, ..., -12, -13, -12],\n",
       "       [  1,   2,   3, ...,  34,  35,  36],\n",
       "       [ -1,   0,   1, ...,  -2,  -3,  -4],\n",
       "       ...,\n",
       "       [  1,   0,   1, ..., -14, -15, -14],\n",
       "       [ -1,  -2,  -3, ...,  46,  45,  46],\n",
       "       [  1,   2,   1, ...,   8,   7,   8]], dtype=int32)"
      ]
     },
     "execution_count": 3,
     "metadata": {},
     "output_type": "execute_result"
    }
   ],
   "source": [
    "nwalks = 5000\n",
    "nsteps = 1000\n",
    "draws = np.random.randint(0,2, size=(nwalks, nsteps))\n",
    "steps = np.where(draws > 0,1,-1)\n",
    "walks = steps.cumsum(1)\n",
    "walks"
   ]
  },
  {
   "cell_type": "code",
   "execution_count": 7,
   "metadata": {},
   "outputs": [
    {
     "data": {
      "text/plain": [
       "3385"
      ]
     },
     "execution_count": 7,
     "metadata": {},
     "output_type": "execute_result"
    }
   ],
   "source": [
    "hits30 = (np.abs(walks) >= 30).any(1)\n",
    "hits30.sum()"
   ]
  },
  {
   "cell_type": "markdown",
   "metadata": {},
   "source": [
    "# Why would it use X.argmax()?\n",
    "Q: What's the meaning of this usage?\n",
    "Answer:\n",
    "# What's the difference between `walks[hits30]` and `np.abs(walks[hits30]) >= 30`\n",
    "Q: `hits30` already defines that all values' abs are >= 30, why would it use another `np.abs` to check if >=30?\n",
    "Answer:"
   ]
  },
  {
   "cell_type": "code",
   "execution_count": 16,
   "metadata": {},
   "outputs": [
    {
     "name": "stdout",
     "output_type": "stream",
     "text": [
      "[[ 1  0  1 ... 12 13 12]\n",
      " [ 1  2  3 ... 34 35 36]\n",
      " [ 1  0  1 ...  2  3  4]\n",
      " ...\n",
      " [ 1  0  1 ... 14 15 14]\n",
      " [ 1  2  3 ... 46 45 46]\n",
      " [ 1  2  1 ...  8  7  8]]\n",
      "----------------\n",
      "[[ 1  0  1 ... 12 13 12]\n",
      " [ 1  2  3 ... 34 35 36]\n",
      " [ 1  2  3 ... 34 33 34]\n",
      " ...\n",
      " [ 1  0  1 ... 62 61 62]\n",
      " [ 1  0  1 ... 14 15 14]\n",
      " [ 1  2  3 ... 46 45 46]]\n"
     ]
    }
   ],
   "source": [
    "# Checking the two results\n",
    "print(np.abs(walks))\n",
    "print('----------------')\n",
    "print(np.abs(walks[hits30]))"
   ]
  },
  {
   "cell_type": "code",
   "execution_count": 14,
   "metadata": {},
   "outputs": [
    {
     "data": {
      "text/plain": [
       "469.75834564254063"
      ]
     },
     "execution_count": 14,
     "metadata": {},
     "output_type": "execute_result"
    }
   ],
   "source": [
    "crossing_times_2 = (walks[hits30]).argmax(1)\n",
    "crossing_times_2.mean()"
   ]
  },
  {
   "cell_type": "code",
   "execution_count": 8,
   "metadata": {},
   "outputs": [
    {
     "data": {
      "text/plain": [
       "496.1326440177253"
      ]
     },
     "execution_count": 8,
     "metadata": {},
     "output_type": "execute_result"
    }
   ],
   "source": [
    "crossing_times = (np.abs(walks[hits30]) >= 30).argmax(1)\n",
    "crossing_times.mean()"
   ]
  }
 ],
 "metadata": {
  "kernelspec": {
   "display_name": "Python 3",
   "language": "python",
   "name": "python3"
  },
  "language_info": {
   "codemirror_mode": {
    "name": "ipython",
    "version": 3
   },
   "file_extension": ".py",
   "mimetype": "text/x-python",
   "name": "python",
   "nbconvert_exporter": "python",
   "pygments_lexer": "ipython3",
   "version": "3.8.5"
  }
 },
 "nbformat": 4,
 "nbformat_minor": 4
}
